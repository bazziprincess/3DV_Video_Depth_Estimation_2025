{
 "cells": [
  {
   "cell_type": "code",
   "id": "initial_id",
   "metadata": {
    "collapsed": true,
    "ExecuteTime": {
     "end_time": "2025-04-12T10:21:10.626167Z",
     "start_time": "2025-04-12T10:21:10.624399Z"
    }
   },
   "source": [
    "from utils.eval_utils import cam2txt\n",
    "from pathlib import Path"
   ],
   "outputs": [],
   "execution_count": 17
  },
  {
   "metadata": {},
   "cell_type": "markdown",
   "source": "### 1. Transfer the Sintel .cam format camera parameters to .txt format",
   "id": "7219b7f92ee2d1d8"
  },
  {
   "metadata": {
    "ExecuteTime": {
     "end_time": "2025-04-12T10:22:39.580424Z",
     "start_time": "2025-04-12T10:22:39.577548Z"
    }
   },
   "cell_type": "code",
   "source": [
    "Sintel_baseline = 0.1\n",
    "\n",
    "path = Path('FoundationStereo/datasets/Sintel/MPI-Sintel-depth-training-20150305/training/camdata_left')\n",
    "folders = [p for p in path.iterdir() if p.is_dir() and p.suffix == '.cam']\n",
    "for folder in folders:\n",
    "    cam_files = [str(p) for p in folder.iterdir() if p.is_file()]\n",
    "    for cam_file in cam_files:\n",
    "        cam2txt(cam_filepath=cam_file,\n",
    "                output_path=cam_file.replace('.cam', '.txt'),\n",
    "                baseline=Sintel_baseline,\n",
    "                verbose=False)"
   ],
   "id": "d8dc94cd962acd7b",
   "outputs": [],
   "execution_count": 19
  }
 ],
 "metadata": {
  "kernelspec": {
   "display_name": "Python 3",
   "language": "python",
   "name": "python3"
  },
  "language_info": {
   "codemirror_mode": {
    "name": "ipython",
    "version": 2
   },
   "file_extension": ".py",
   "mimetype": "text/x-python",
   "name": "python",
   "nbconvert_exporter": "python",
   "pygments_lexer": "ipython2",
   "version": "2.7.6"
  }
 },
 "nbformat": 4,
 "nbformat_minor": 5
}
